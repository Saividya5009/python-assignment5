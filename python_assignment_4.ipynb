{
  "nbformat": 4,
  "nbformat_minor": 0,
  "metadata": {
    "colab": {
      "name": "python assignment 4.ipynb",
      "provenance": [],
      "authorship_tag": "ABX9TyNzLFCt2z/eiOlDv0OXmMTY",
      "include_colab_link": true
    },
    "kernelspec": {
      "name": "python3",
      "display_name": "Python 3"
    }
  },
  "cells": [
    {
      "cell_type": "markdown",
      "metadata": {
        "id": "view-in-github",
        "colab_type": "text"
      },
      "source": [
        "<a href=\"https://colab.research.google.com/github/Saividya5009/python-assignment5/blob/master/python_assignment_4.ipynb\" target=\"_parent\"><img src=\"https://colab.research.google.com/assets/colab-badge.svg\" alt=\"Open In Colab\"/></a>"
      ]
    },
    {
      "cell_type": "markdown",
      "metadata": {
        "id": "9vbC68aMyOn3",
        "colab_type": "text"
      },
      "source": [
        "1.write a python function to find max of three numbers"
      ]
    },
    {
      "cell_type": "code",
      "metadata": {
        "id": "O0kq1BqFybHZ",
        "colab_type": "code",
        "colab": {
          "base_uri": "https://localhost:8080/",
          "height": 34
        },
        "outputId": "ef54933b-ca05-4210-ce92-ccb153b5f381"
      },
      "source": [
        "def maximum(a,b,c):\n",
        "  if a>=b and a>=c:\n",
        "   print(\"the largest number is\",a)\n",
        "  elif b>=a and b>=c: \n",
        "    print(\"the largest number is\",b)\n",
        "  else:\n",
        "    print(\"the largest number is\",c)\n",
        "maximum(3,4,5)"
      ],
      "execution_count": null,
      "outputs": [
        {
          "output_type": "stream",
          "text": [
            "the largest number is 5\n"
          ],
          "name": "stdout"
        }
      ]
    },
    {
      "cell_type": "markdown",
      "metadata": {
        "id": "SJm7CVvN2C7b",
        "colab_type": "text"
      },
      "source": [
        "2.write a python program to reverse a string."
      ]
    },
    {
      "cell_type": "code",
      "metadata": {
        "id": "VT5zekAE2TWh",
        "colab_type": "code",
        "colab": {
          "base_uri": "https://localhost:8080/",
          "height": 34
        },
        "outputId": "4c58233e-23a5-4456-a251-70f91e8b2f96"
      },
      "source": [
        "x=\"hello world\"\n",
        "x[::-1]"
      ],
      "execution_count": null,
      "outputs": [
        {
          "output_type": "execute_result",
          "data": {
            "text/plain": [
              "'dlrow olleh'"
            ]
          },
          "metadata": {
            "tags": []
          },
          "execution_count": 13
        }
      ]
    },
    {
      "cell_type": "markdown",
      "metadata": {
        "id": "Llj2YPM63Nhp",
        "colab_type": "text"
      },
      "source": [
        "3.write a python function to check whether the number is prime or not."
      ]
    },
    {
      "cell_type": "code",
      "metadata": {
        "id": "yMD70j573niv",
        "colab_type": "code",
        "colab": {
          "base_uri": "https://localhost:8080/",
          "height": 34
        },
        "outputId": "6989c4ac-7a89-4eb5-be24-f292c889c4e2"
      },
      "source": [
        "def prime(x):\n",
        "    if x >1:\n",
        "      for n in range(2,x):\n",
        "        if x % n == 0:\n",
        "           print(\"the number is not prime\")\n",
        "        else:\n",
        "           print(\"the number is prime\")\n",
        "           break\n",
        "prime(23)"
      ],
      "execution_count": 4,
      "outputs": [
        {
          "output_type": "stream",
          "text": [
            "the number is prime\n"
          ],
          "name": "stdout"
        }
      ]
    },
    {
      "cell_type": "markdown",
      "metadata": {
        "id": "J4X1uOS5AxPh",
        "colab_type": "text"
      },
      "source": [
        "5.write a python function to find sum of squares of first n natural numbers"
      ]
    },
    {
      "cell_type": "code",
      "metadata": {
        "id": "QuNQqDGw24LF",
        "colab_type": "code",
        "colab": {
          "base_uri": "https://localhost:8080/",
          "height": 34
        },
        "outputId": "c39e34f5-2110-4283-ecbf-a47c329e9c8a"
      },
      "source": [
        "def squaresum(n):\n",
        "  sum=0\n",
        "  for i in range(1,n+1):\n",
        "    sum=sum+(i*i)\n",
        "  return sum\n",
        "print(squaresum(9))"
      ],
      "execution_count": 21,
      "outputs": [
        {
          "output_type": "stream",
          "text": [
            "285\n"
          ],
          "name": "stdout"
        }
      ]
    }
  ]
}